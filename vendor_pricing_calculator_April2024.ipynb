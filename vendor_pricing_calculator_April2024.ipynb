{
 "cells": [
  {
   "cell_type": "code",
   "execution_count": 1,
   "id": "fe3358f9",
   "metadata": {},
   "outputs": [],
   "source": [
    "import numpy as np\n",
    "import pandas as pd\n",
    "import folium\n",
    "import ipywidgets as widgets\n",
    "import matplotlib.ticker as ticker\n",
    "import matplotlib.pyplot as plot\n",
    "import seaborn as sn"
   ]
  },
  {
   "cell_type": "code",
   "execution_count": 2,
   "id": "3431b8f3",
   "metadata": {},
   "outputs": [],
   "source": [
    "date = \"April 24th 2023\""
   ]
  },
  {
   "cell_type": "markdown",
   "id": "7db79e8b",
   "metadata": {},
   "source": [
    "I took the list of vendors analysed by the student teams in Spring 2020 as the sample set. You can check the slides which has information about the competitive analysis done by the student teams in this link - https://docs.google.com/presentation/d/1JvqC1JQFRp5-pWBupKWMBPeEMPTqhqKa/edit?usp=sharing&ouid=114651845902974533993&rtpof=true&sd=true. Based on the available data, I did a back of the envelope estimation for all these vendors in this Jupyter Notebook. \n",
    "\n",
    "This Jupyter Notebook (based on the inputs of Ryan Lovett) performs basic calculations to estimate the cost University will incur if they plan to chose a vendor offering to deploy Jupyter notebooks taking into mind the current scale and usage of Datahub. I have made certain approximations which I will layout at the end of the notebook. "
   ]
  },
  {
   "cell_type": "markdown",
   "id": "dd6141ee",
   "metadata": {},
   "source": [
    "All the below estimates are based on the pricing on or before Dec 19th 2022"
   ]
  },
  {
   "cell_type": "markdown",
   "id": "e80884c0",
   "metadata": {},
   "source": [
    "# Posit (RStudio) Instructor Pays Option"
   ]
  },
  {
   "cell_type": "markdown",
   "id": "2f8b41a9",
   "metadata": {},
   "source": [
    "Posit (R Studio) offers 16 GB RAM, 4 CPU and unlimited shared storage as part of the \"instructor pays\" option. This amounts to $5/student/month Check this link for more details - https://posit.cloud/plans/instructor?option=student"
   ]
  },
  {
   "cell_type": "code",
   "execution_count": 33,
   "id": "d4539ae9",
   "metadata": {},
   "outputs": [
    {
     "data": {
      "text/plain": [
       "660000"
      ]
     },
     "execution_count": 33,
     "metadata": {},
     "output_type": "execute_result"
    }
   ],
   "source": [
    "rstudio_user_estimate = 11000 # back of the envelope estimation based on the no. of courses using R Studio currently\n",
    "duration = 12 # 12 months\n",
    "rstudio_costperuser_permonth = 5 # $5 per user per month\n",
    "rstudio_instructorpays_year = rstudio_user_estimate * (rstudio_costperuser_permonth * 12)\n",
    "rstudio_instructorpays_year"
   ]
  },
  {
   "cell_type": "markdown",
   "id": "a6713d8f-edf7-4078-9632-7b9bcc72c34e",
   "metadata": {},
   "source": [
    "# Posit (RStudio) Student Pays Option"
   ]
  },
  {
   "cell_type": "markdown",
   "id": "8bb31c89-f326-4825-8b14-44cace7f684c",
   "metadata": {},
   "source": [
    "At large student base, Posit (RStudio) could potentially offer a 50% discount which amounts to $2.50/student/month. They're more expensive than the \"instructor pays\" metered pricing, but the costs are fixed as opposed to being based on student/project runtime. In any case, it might be worth it to add them too. Here is the link for more details - https://posit.cloud/plans/instructor?option=student"
   ]
  },
  {
   "cell_type": "code",
   "execution_count": 52,
   "id": "b15d4737-4093-4331-bbff-bb753c6d50c1",
   "metadata": {},
   "outputs": [
    {
     "data": {
      "text/plain": [
       "660000"
      ]
     },
     "execution_count": 52,
     "metadata": {},
     "output_type": "execute_result"
    }
   ],
   "source": [
    "rstudio_studentpays_costperuser_permonth = 5\n",
    "rstudio_studentpays_year = rstudio_user_estimate * (rstudio_studentpays_costperuser_permonth * 12)\n",
    "rstudio_studentpays_year"
   ]
  },
  {
   "cell_type": "markdown",
   "id": "759dce83-2191-459b-8b3b-da0a0bcb3e0d",
   "metadata": {},
   "source": [
    "### Pros and Cons"
   ]
  },
  {
   "cell_type": "markdown",
   "id": "8ca9b39f-faeb-4d3b-8ccb-544df5cb7b2e",
   "metadata": {},
   "source": [
    "Pros: Launches R Studio and Shiny in a sandboxed environment\n",
    "Cons: Doesn't support Jupyter tools which are used in the majority of the courses. Need to find another vendor to complement this subscription. \n",
    "May not work effectively with nbgitpuller link which is used by Berkeley instructors to share Data Science assignment with students (To be verified)"
   ]
  },
  {
   "cell_type": "markdown",
   "id": "f2fc7237",
   "metadata": {},
   "source": [
    "# Cocalc"
   ]
  },
  {
   "cell_type": "markdown",
   "id": "9de6e23f",
   "metadata": {},
   "source": [
    "Cocalc offers 2 GB RAM, 1 CPU and 3 GB shared disk in their plans listed here - https://cocalc.com/pricing/courses\n",
    "Cocalc plan listed below - 1 Teacher, 150 Students, 120 days Duration, 30min Idle timeout, 2 G Shared RAM,1 core Shared CPU, 3 G Disk space\n"
   ]
  },
  {
   "cell_type": "code",
   "execution_count": 53,
   "id": "543e9d9b",
   "metadata": {},
   "outputs": [
    {
     "data": {
      "text/plain": [
       "789360"
      ]
     },
     "execution_count": 53,
     "metadata": {},
     "output_type": "execute_result"
    }
   ],
   "source": [
    "cocalc_user_estimate = 11000 # Maximum number of users who used Datahub at its peak during FA 22\n",
    "cocalc_cost_peruser_permonth = 5.98 #1 instructor, 150 students, 4 months - $3583.60\n",
    "cocalc_cost_year = round(cocalc_user_estimate * (cocalc_cost_peruser_permonth * 12))\n",
    "cocalc_cost_year"
   ]
  },
  {
   "cell_type": "markdown",
   "id": "d91f467b-ff7f-41ae-9fc1-1f3b12505747",
   "metadata": {},
   "source": [
    "### Pros and Cons"
   ]
  },
  {
   "cell_type": "markdown",
   "id": "f2f1f607-5a81-44d0-8083-748d19ea9dd2",
   "metadata": {},
   "source": [
    "Pros: Supports Jupyter notebook kernels in Python and R\n",
    "Cons: May not support integration with nbgitpuller. Doesn't support RStudio and linux desktop environment- https://cocalc.com/features/r-statistical-software"
   ]
  },
  {
   "cell_type": "markdown",
   "id": "8585cf98",
   "metadata": {},
   "source": [
    "# Deep Note"
   ]
  },
  {
   "cell_type": "markdown",
   "id": "7a8f9daa",
   "metadata": {},
   "source": [
    "Deepnote for Education is free for all academic users. This estimate makes the assumption - what if it is not? If they start charging as per their current costs for enterprise customers?\n",
    "\n",
    "They offer 16 GB RAM and 4 CPU in addition to database integrations \n",
    "\n",
    "DeepNote pricing is listed here - https://deepnote.com/pricing"
   ]
  },
  {
   "cell_type": "code",
   "execution_count": 54,
   "id": "a3f279a2",
   "metadata": {},
   "outputs": [
    {
     "data": {
      "text/plain": [
       "4092000"
      ]
     },
     "execution_count": 54,
     "metadata": {},
     "output_type": "execute_result"
    }
   ],
   "source": [
    "deepnote_user_estimate = 11000\n",
    "deepnote_cost_peruser_permonth = 31 # $39 if paid monthly\n",
    "deepnote_cost_year = round(deepnote_user_estimate * (deepnote_cost_peruser_permonth * 12))\n",
    "deepnote_cost_year"
   ]
  },
  {
   "cell_type": "markdown",
   "id": "e7c704dd",
   "metadata": {},
   "source": [
    "Adding a discount of 40% which is a placeholder for discounts companies can offer universities. Deepnote offers a 40% discount which I have taken as a baseline from https://cocalc.com/store/site-license?user=academic&period=monthly&run_limit=1&member=true&uptime=short&cpu=1&ram=2&disk=3"
   ]
  },
  {
   "cell_type": "code",
   "execution_count": 55,
   "id": "7b077b13",
   "metadata": {},
   "outputs": [
    {
     "data": {
      "text/plain": [
       "2455200.0"
      ]
     },
     "execution_count": 55,
     "metadata": {},
     "output_type": "execute_result"
    }
   ],
   "source": [
    "deepnote_cost_year_concession = deepnote_cost_year * 0.6\n",
    "deepnote_cost_year_concession"
   ]
  },
  {
   "cell_type": "markdown",
   "id": "302c3a34-7948-4cfb-b37a-6f24269020b4",
   "metadata": {},
   "source": [
    "### Pros and Cons"
   ]
  },
  {
   "cell_type": "markdown",
   "id": "6946fc17-71fe-4e28-b88e-46366eca26c7",
   "metadata": {},
   "source": [
    "Pros: Free for all academic users, Can pull notebooks from Google Drive and Github repositories, Supports Posgres and Mongo DB integration\n",
    "Cons: Doesn't support R Studio, Shiny, nbgitpuller and Linux Desktop Environment"
   ]
  },
  {
   "cell_type": "markdown",
   "id": "e81ea836",
   "metadata": {},
   "source": [
    "# Github Codespaces"
   ]
  },
  {
   "cell_type": "markdown",
   "id": "54e0182e",
   "metadata": {},
   "source": [
    "Github Codespaces is free for all academic users.This estimate makes the assumption - what if it is not? If they start charging as per their current costs for enterprise customers?\n"
   ]
  },
  {
   "cell_type": "code",
   "execution_count": 56,
   "id": "b09ad599",
   "metadata": {},
   "outputs": [
    {
     "data": {
      "text/plain": [
       "528000"
      ]
     },
     "execution_count": 56,
     "metadata": {},
     "output_type": "execute_result"
    }
   ],
   "source": [
    "codespaces_user_estimate = 11000\n",
    "codespaces_cost_peruser_permonth = 4 # $4 per developer per month\n",
    "codespaces_cost_year = round(codespaces_user_estimate * (codespaces_cost_peruser_permonth * 12))\n",
    "codespaces_cost_year"
   ]
  },
  {
   "cell_type": "markdown",
   "id": "4983e06a",
   "metadata": {},
   "source": [
    "Adding a discount of 40% which companies offer universities regularly\n"
   ]
  },
  {
   "cell_type": "code",
   "execution_count": 57,
   "id": "e5211cda",
   "metadata": {},
   "outputs": [
    {
     "data": {
      "text/plain": [
       "316800.0"
      ]
     },
     "execution_count": 57,
     "metadata": {},
     "output_type": "execute_result"
    }
   ],
   "source": [
    "codespaces_cost_year_concession = codespaces_cost_year * 0.6\n",
    "codespaces_cost_year_concession"
   ]
  },
  {
   "cell_type": "markdown",
   "id": "ba199e2d-7da4-4fc0-a49d-1152741cfc75",
   "metadata": {},
   "source": [
    "### Pros and Cons"
   ]
  },
  {
   "cell_type": "markdown",
   "id": "eadca8c6-e486-49c3-bdb9-0cea85235ddc",
   "metadata": {},
   "source": [
    "Pros: Free for all academic users\n",
    "Cons: Doesn't seem to support RStudio and Linux Desktop Environment. Unsure about nbgitpuller and database integrations"
   ]
  },
  {
   "cell_type": "markdown",
   "id": "b13a7750",
   "metadata": {},
   "source": [
    "# Python Anywhere"
   ]
  },
  {
   "cell_type": "markdown",
   "id": "e3709050",
   "metadata": {},
   "source": [
    "Python Anywhere is free for all users. https://www.pythonanywhere.com/pricing/ details the pricing for non academic users\n"
   ]
  },
  {
   "cell_type": "code",
   "execution_count": 58,
   "id": "f7ee06a5",
   "metadata": {},
   "outputs": [
    {
     "data": {
      "text/plain": [
       "660000"
      ]
     },
     "execution_count": 58,
     "metadata": {},
     "output_type": "execute_result"
    }
   ],
   "source": [
    "pythonanywhere_user_estimate = 11000\n",
    "pythonanywhere_cost_peruser_permonth = 5\n",
    "pythonanywhere_cost_year = round(pythonanywhere_user_estimate * (pythonanywhere_cost_peruser_permonth * 12))\n",
    "pythonanywhere_cost_year"
   ]
  },
  {
   "cell_type": "markdown",
   "id": "bba07082-e9fe-4d3e-ba77-0ab9e9fdeab7",
   "metadata": {},
   "source": [
    "### Pros and Cons\n",
    "Pros: Free for all academic users\n",
    "Cons: Cons: Doesn't seem to support RStudio and Linux Desktop Environment. Unsure about nbgitpuller and database integrations"
   ]
  },
  {
   "cell_type": "markdown",
   "id": "d900497f",
   "metadata": {},
   "source": [
    "# Ed Discussions"
   ]
  },
  {
   "cell_type": "markdown",
   "id": "63d90e74",
   "metadata": {},
   "source": [
    "Ed discussions pricing model is not transparent"
   ]
  },
  {
   "cell_type": "code",
   "execution_count": 59,
   "id": "c85f69d2",
   "metadata": {},
   "outputs": [
    {
     "data": {
      "text/plain": [
       "660000"
      ]
     },
     "execution_count": 59,
     "metadata": {},
     "output_type": "execute_result"
    }
   ],
   "source": [
    "# Ed discussion\n",
    "eddiscussion_user_estimate = 11000\n",
    "eddiscussion_cost_peruser_permonth = 6 #Available as part of their discussion tool\n",
    "eddiscussion_cost_year = round(pythonanywhere_user_estimate * (pythonanywhere_cost_peruser_permonth * 12))\n",
    "eddiscussion_cost_year"
   ]
  },
  {
   "cell_type": "markdown",
   "id": "f5fd20ea-0b7a-4b96-8e07-23a359313240",
   "metadata": {},
   "source": [
    "### Pros and Cons\n",
    "Pros: Ed discussion is extensively used at Berkeley making it a seamless transition. Built Real Time Collaboration functionality as part of their notebooks. Database integration is available\n",
    "Cons: Their pricing model is not transparent making it hard to make any estimates"
   ]
  },
  {
   "cell_type": "markdown",
   "id": "937aef9d",
   "metadata": {},
   "source": [
    "# Vocareum"
   ]
  },
  {
   "cell_type": "markdown",
   "id": "2cd5012a",
   "metadata": {},
   "source": [
    "Vocareum Pricing - https://www.vocareum.com/#pricing\n"
   ]
  },
  {
   "cell_type": "code",
   "execution_count": 60,
   "id": "28bbbea1",
   "metadata": {},
   "outputs": [
    {
     "data": {
      "text/plain": [
       "1320000"
      ]
     },
     "execution_count": 60,
     "metadata": {},
     "output_type": "execute_result"
    }
   ],
   "source": [
    "Vocareum_user_estimate = 11000\n",
    "Vocareum_cost_peruser_permonth = 10\n",
    "Vocareum_cost_year = round(Vocareum_user_estimate * (Vocareum_cost_peruser_permonth * 12))\n",
    "Vocareum_cost_year"
   ]
  },
  {
   "cell_type": "code",
   "execution_count": 61,
   "id": "6537f3ad-863e-4e9c-a6ed-c76d1503527f",
   "metadata": {},
   "outputs": [],
   "source": [
    "### Pros and Cons"
   ]
  },
  {
   "cell_type": "markdown",
   "id": "7f5ff4c2",
   "metadata": {},
   "source": [
    "# Illumi Desk"
   ]
  },
  {
   "cell_type": "markdown",
   "id": "5eee9f34",
   "metadata": {},
   "source": [
    "Illumi Desk Pricing - https://www.illumidesk.com/pricing\n"
   ]
  },
  {
   "cell_type": "code",
   "execution_count": 62,
   "id": "6d1e7ad4",
   "metadata": {},
   "outputs": [
    {
     "data": {
      "text/plain": [
       "1320000"
      ]
     },
     "execution_count": 62,
     "metadata": {},
     "output_type": "execute_result"
    }
   ],
   "source": [
    "illumidesk_user_estimate = 11000\n",
    "illumidesk_cost_peruser_permonth = 10\n",
    "illumidesk_cost_year = round(illumidesk_user_estimate * (illumidesk_cost_peruser_permonth * 12))\n",
    "illumidesk_cost_year"
   ]
  },
  {
   "cell_type": "code",
   "execution_count": 63,
   "id": "8eff8ad4-342e-455e-b475-19a6d633d282",
   "metadata": {},
   "outputs": [],
   "source": [
    "### Pros and Cons"
   ]
  },
  {
   "cell_type": "markdown",
   "id": "692c68de",
   "metadata": {},
   "source": [
    "# Datahub"
   ]
  },
  {
   "cell_type": "code",
   "execution_count": 64,
   "id": "6b02af73",
   "metadata": {},
   "outputs": [
    {
     "data": {
      "text/plain": [
       "540000"
      ]
     },
     "execution_count": 64,
     "metadata": {},
     "output_type": "execute_result"
    }
   ],
   "source": [
    "datahub_user_estimate = 11000\n",
    "datahub_cloudcosts_permonth = 20000 # Based on the current monthly cloud costs\n",
    "datahub_hrcosts = 25000 # Estimating based on the salary listed in that report\n",
    "datahub_cost_year = (datahub_cloudcosts_permonth * 12) + (datahub_hrcosts * 12)\n",
    "datahub_cost_year"
   ]
  },
  {
   "cell_type": "markdown",
   "id": "bea8ee0b",
   "metadata": {},
   "source": [
    "Estimate of Datahub Cloud and HR cost (Made based on assumptions from data such as https://hr.berkeley.edu/compensation-benefits/compensation/salary-and-pay/non-represented) "
   ]
  },
  {
   "cell_type": "markdown",
   "id": "766e000f",
   "metadata": {},
   "source": [
    "# Repl.it"
   ]
  },
  {
   "cell_type": "markdown",
   "id": "36814deb",
   "metadata": {},
   "source": [
    "repl.it is free for all academic users - https://replit.com/pricing\n",
    "They offer 2 GB memory, 2 vCPU and 10+ GB storage"
   ]
  },
  {
   "cell_type": "raw",
   "id": "7be25559",
   "metadata": {},
   "source": [
    "For their hacker version which offers 2 GB storage, 2 CPU and 5 GB+ storage, the pricing is around $7/month"
   ]
  },
  {
   "cell_type": "code",
   "execution_count": 65,
   "id": "1b23e8d7",
   "metadata": {},
   "outputs": [
    {
     "data": {
      "text/plain": [
       "1584000"
      ]
     },
     "execution_count": 65,
     "metadata": {},
     "output_type": "execute_result"
    }
   ],
   "source": [
    "replit_user_estimate = 11000\n",
    "replit_cost_peruser_permonth = 12\n",
    "replit_cost_year = round(replit_user_estimate * (replit_cost_peruser_permonth * 12))\n",
    "replit_cost_year"
   ]
  },
  {
   "cell_type": "markdown",
   "id": "169096eb-ba4d-424d-85e2-952dd6773c76",
   "metadata": {},
   "source": [
    "### Pros and Cons\n",
    "\n",
    "Pros: Free for all academic users. \n",
    "Cons: Doesn't seem to support RStudio and Linux Desktop Environment. Unsure about nbgitpuller and database integrations"
   ]
  },
  {
   "cell_type": "markdown",
   "id": "0c10aca8",
   "metadata": {},
   "source": [
    "# eLumin"
   ]
  },
  {
   "cell_type": "code",
   "execution_count": 66,
   "id": "20e8a7ef",
   "metadata": {},
   "outputs": [],
   "source": [
    "# elumin - $1500 AWS cloud costs\n"
   ]
  },
  {
   "cell_type": "markdown",
   "id": "b8aa730b",
   "metadata": {},
   "source": [
    "# 2i2c"
   ]
  },
  {
   "cell_type": "code",
   "execution_count": 67,
   "id": "78bf2d2f",
   "metadata": {},
   "outputs": [],
   "source": [
    "# 2i2c pricing"
   ]
  },
  {
   "cell_type": "code",
   "execution_count": 68,
   "id": "212be2ba",
   "metadata": {},
   "outputs": [
    {
     "name": "stdout",
     "output_type": "stream",
     "text": [
      "[660000, 660000, 789360, 0, 2455200.0, 0, 316800.0, 0, 660000, 0, 1320000, 1320000, 540000, 0, 1584000]\n"
     ]
    }
   ],
   "source": [
    "from textwrap import wrap\n",
    "x_axis = [\"R Studio Instructor Pays\", \"R Studio Student Pays\", \"Co-Calc\", \"Deepnote Current Pricing\", \"Deepnote Predicted Pricing\",\"Codespaces Current Pricing\",\"Codespaces Predicted Pricing\", \"PythonAnywhere Current Pricing\", \"PythonAnywhere Predicted Pricing\",\"Ed Discussions\" ,\"Vocareum\", \"IllumiDesk\", \"Datahub\", \"Repl.it Current Pricing\", \"Repl.it Predicted Pricing\"]\n",
    "y_axis = [rstudio_instructorpays_year, rstudio_studentpays_year, cocalc_cost_year,0,deepnote_cost_year_concession, 0, codespaces_cost_year_concession, 0 , pythonanywhere_cost_year,0,Vocareum_cost_year,illumidesk_cost_year,datahub_cost_year, 0, replit_cost_year ]\n",
    "x_axis = [ '\\n'.join(wrap(l,10)) for l in x_axis ]\n",
    "print(y_axis)"
   ]
  },
  {
   "cell_type": "code",
   "execution_count": 69,
   "id": "399ca7dc",
   "metadata": {},
   "outputs": [
    {
     "name": "stderr",
     "output_type": "stream",
     "text": [
      "/srv/conda/lib/python3.9/site-packages/seaborn/_decorators.py:36: FutureWarning: Pass the following variables as keyword args: x, y. From version 0.12, the only valid positional argument will be `data`, and passing other arguments without an explicit keyword will result in an error or misinterpretation.\n",
      "  warnings.warn(\n",
      "/srv/conda/lib/python3.9/site-packages/seaborn/_core.py:1485: FutureWarning: unique with argument that is not not a Series, Index, ExtensionArray, or np.ndarray is deprecated and will raise in a future version.\n",
      "  order = pd.unique(vector)\n"
     ]
    },
    {
     "data": {
      "image/png": "[encoded data removed]",
      "text/plain": [
       "<Figure size 2000x827 with 1 Axes>"
      ]
     },
     "metadata": {},
     "output_type": "display_data"
    }
   ],
   "source": [
    "sn.set_style('darkgrid')\n",
    "sn.set(rc={'figure.figsize':(20,8.27)})\n",
    "plot.ticklabel_format(style='plain', axis='y')\n",
    "fig = sn.barplot(x_axis, y_axis, palette ='hls' )\n",
    "fig.bar_label(fig.containers[0])\n",
    "fig.set(xlabel = \"Vendor Name (Data Science Tools)\",ylabel = \"Cost Per Year In Dollars\", title = \"Cost Comparision for deploying Jupyter Notebooks across multiple vendors as per the pricing on or before Dec 19th, 2022\")\n",
    "#fig.yaxis.set_major_formatter('${x:1.0f}')\n",
    "fig.yaxis.set_major_formatter(ticker.EngFormatter())"
   ]
  },
  {
   "cell_type": "markdown",
   "id": "fa8c5b96",
   "metadata": {},
   "source": [
    "There are lot of approximations made in this particular estimate. Deep Note, Github Codespaces and Python Anywhere are free for academic use currently. However, I am assuming that these vendors will try to monetize their offering in the near future. Hence, I approximated the cost to be 60% of what will be paid by the users using the above offering for professional usecases."
   ]
  },
  {
   "cell_type": "markdown",
   "id": "4e4c4bd6-7752-4b08-aa18-3179a465d063",
   "metadata": {},
   "source": [
    "# Hub Hero"
   ]
  },
  {
   "cell_type": "markdown",
   "id": "f83d8236-bc7a-4d82-a81e-b62f22af7ed5",
   "metadata": {},
   "source": [
    "hubhero's cost permonth for a class having 20 - 100 users is around $250/month which amounts to $3000 per year for a sing"
   ]
  },
  {
   "cell_type": "markdown",
   "id": "d927a7ae-0459-49d8-9b5d-3d7d356f97d5",
   "metadata": {
    "tags": []
   },
   "source": [
    "# Not so useful visualization"
   ]
  },
  {
   "cell_type": "markdown",
   "id": "84a650d4-0a57-4f63-b705-461194de6b15",
   "metadata": {},
   "source": [
    "plot.bar(x_axis, y_axis)\n",
    "plot.title(\"Cost Comparision for deploying Jupyter Notebooks across multiple vendors as per the pricing on or before Dec 19th, 2022\", pad = 20)\n",
    "plot.xlabel(\"Name of the Vendor\", labelpad=30)\n",
    "plot.ylabel(\"Costs incurred per year\")\n",
    "plot.ticklabel_format(style='plain', axis='y')\n",
    "plot.grid()\n",
    "plot.show()"
   ]
  }
 ],
 "metadata": {
  "kernelspec": {
   "display_name": "Python 3 (ipykernel)",
   "language": "python",
   "name": "python3"
  },
  "language_info": {
   "codemirror_mode": {
    "name": "ipython",
    "version": 3
   },
   "file_extension": ".py",
   "mimetype": "text/x-python",
   "name": "python",
   "nbconvert_exporter": "python",
   "pygments_lexer": "ipython3",
   "version": "3.9.15"
  }
 },
 "nbformat": 4,
 "nbformat_minor": 5
}
